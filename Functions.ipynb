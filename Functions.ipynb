{
 "cells": [
  {
   "cell_type": "markdown",
   "id": "99975432",
   "metadata": {},
   "source": [
    "<h1> Functions in Python </h1>"
   ]
  },
  {
   "cell_type": "code",
   "execution_count": 2,
   "id": "45349a13",
   "metadata": {},
   "outputs": [
    {
     "name": "stdout",
     "output_type": "stream",
     "text": [
      "9\n"
     ]
    }
   ],
   "source": [
    "#Fuction to add two values and return a value\n",
    "def add(x,y):\n",
    "    c=x+y\n",
    "    return c\n",
    "result=add(5,4)\n",
    "print(result)"
   ]
  },
  {
   "cell_type": "code",
   "execution_count": 3,
   "id": "c6cbce08",
   "metadata": {},
   "outputs": [
    {
     "name": "stdout",
     "output_type": "stream",
     "text": [
      "9 1\n"
     ]
    }
   ],
   "source": [
    "#Fuction to add two values and return two values\n",
    "def add_sub(x,y):\n",
    "    c=x+y\n",
    "    d=x-y\n",
    "    return c,d\n",
    "result1,result2=add_sub(5,4)\n",
    "print(result1,result2)"
   ]
  }
 ],
 "metadata": {
  "kernelspec": {
   "display_name": "Python 3 (ipykernel)",
   "language": "python",
   "name": "python3"
  },
  "language_info": {
   "codemirror_mode": {
    "name": "ipython",
    "version": 3
   },
   "file_extension": ".py",
   "mimetype": "text/x-python",
   "name": "python",
   "nbconvert_exporter": "python",
   "pygments_lexer": "ipython3",
   "version": "3.11.4"
  }
 },
 "nbformat": 4,
 "nbformat_minor": 5
}
