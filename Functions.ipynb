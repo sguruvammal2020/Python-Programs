{
 "cells": [
  {
   "cell_type": "markdown",
   "id": "99975432",
   "metadata": {},
   "source": [
    "<h1> Functions in Python </h1>"
   ]
  },
  {
   "cell_type": "code",
   "execution_count": 2,
   "id": "45349a13",
   "metadata": {},
   "outputs": [
    {
     "name": "stdout",
     "output_type": "stream",
     "text": [
      "9\n"
     ]
    }
   ],
   "source": [
    "#Fuction to add two values and return a value\n",
    "def add(x,y):\n",
    "    c=x+y\n",
    "    return c\n",
    "result=add(5,4)\n",
    "print(result)"
   ]
  },
  {
   "cell_type": "code",
   "execution_count": 3,
   "id": "c6cbce08",
   "metadata": {},
   "outputs": [
    {
     "name": "stdout",
     "output_type": "stream",
     "text": [
      "9 1\n"
     ]
    }
   ],
   "source": [
    "#Fuction to add two values and return two values\n",
    "def add_sub(x,y):\n",
    "    c=x+y\n",
    "    d=x-y\n",
    "    return c,d\n",
    "result1,result2=add_sub(5,4)\n",
    "print(result1,result2)"
   ]
  },
  {
   "cell_type": "markdown",
   "id": "16a290ef",
   "metadata": {},
   "source": [
    "<h1>Passing arguments in Python</h1>\n",
    "<h2> In Python, there is no 'pass by value' and 'pass by reference' concept</h2>\n",
    "<h3> In Python, everything is an Object. Integers, Strings are immutable and list is mutable</h3>"
   ]
  },
  {
   "cell_type": "code",
   "execution_count": 4,
   "id": "fdb9f8b8",
   "metadata": {},
   "outputs": [
    {
     "name": "stdout",
     "output_type": "stream",
     "text": [
      "140708881208392\n",
      "140708881208392\n",
      "140708881208328\n",
      "x  8\n",
      "a  10\n"
     ]
    }
   ],
   "source": [
    "# Passing immutable values (Changes wont reflect in original variable)\n",
    "def update(x):\n",
    "    print(id(x))\n",
    "    x=8\n",
    "    print(id(x))\n",
    "    print(\"x \",x)\n",
    "\n",
    "a=10\n",
    "print(id(a))    # id() is used to fetch the memory address\n",
    "update(a)\n",
    "print(\"a \",a)"
   ]
  },
  {
   "cell_type": "code",
   "execution_count": 5,
   "id": "55c4700b",
   "metadata": {},
   "outputs": [
    {
     "name": "stdout",
     "output_type": "stream",
     "text": [
      "1823863240128\n",
      "1823863240128\n",
      "1823863240128\n",
      "x  [10, 25, 30]\n",
      "lst  [10, 25, 30]\n"
     ]
    }
   ],
   "source": [
    "#Passing mutable values (Changes affect the original value)\n",
    "def update(lst):\n",
    "    print(id(lst))\n",
    "    lst[1]=25\n",
    "    print(id(lst))\n",
    "    print(\"x \",lst)\n",
    "\n",
    "lst=[10,20,30]  # lst is list\n",
    "print(id(lst))    # id() is used to fetch the memory address\n",
    "update(lst)\n",
    "print(\"lst \",lst)"
   ]
  },
  {
   "cell_type": "markdown",
   "id": "e75872a3",
   "metadata": {},
   "source": [
    "<h1>Return statement in Python </h1>\n",
    "<h6>Function can return any date type</h6>"
   ]
  },
  {
   "cell_type": "code",
   "execution_count": 7,
   "id": "4c64c429",
   "metadata": {},
   "outputs": [
    {
     "name": "stdout",
     "output_type": "stream",
     "text": [
      "None\n"
     ]
    }
   ],
   "source": [
    "#Return none without return statement in function suite\n",
    "# Cube a number\n",
    "\n",
    "def cube(num):\n",
    "    num*num*num\n",
    "                          # No return statement    \n",
    "print(cube(3))"
   ]
  },
  {
   "cell_type": "code",
   "execution_count": 8,
   "id": "62bdc4f7",
   "metadata": {},
   "outputs": [
    {
     "name": "stdout",
     "output_type": "stream",
     "text": [
      "27\n"
     ]
    }
   ],
   "source": [
    "# return a value\n",
    "def cube(num):\n",
    "    return num*num*num\n",
    "print(cube(3))"
   ]
  },
  {
   "cell_type": "code",
   "execution_count": 9,
   "id": "b7cbeddc",
   "metadata": {},
   "outputs": [
    {
     "name": "stdout",
     "output_type": "stream",
     "text": [
      "27\n"
     ]
    }
   ],
   "source": [
    "# receive the returned a value in variable\n",
    "def cube(num):\n",
    "    return num*num*num\n",
    "result=cube(3)\n",
    "print(result)"
   ]
  },
  {
   "cell_type": "code",
   "execution_count": 11,
   "id": "332f0c08",
   "metadata": {},
   "outputs": [
    {
     "name": "stdout",
     "output_type": "stream",
     "text": [
      "27\n"
     ]
    }
   ],
   "source": [
    "# return breaks the function. It should be the last statement in function suite\n",
    "def cube(num):\n",
    "    return num*num*num\n",
    "    print(\"Code\")    # It is never gets printed\n",
    "result=cube(3)\n",
    "print(result)\n"
   ]
  }
 ],
 "metadata": {
  "kernelspec": {
   "display_name": "Python 3 (ipykernel)",
   "language": "python",
   "name": "python3"
  },
  "language_info": {
   "codemirror_mode": {
    "name": "ipython",
    "version": 3
   },
   "file_extension": ".py",
   "mimetype": "text/x-python",
   "name": "python",
   "nbconvert_exporter": "python",
   "pygments_lexer": "ipython3",
   "version": "3.11.4"
  }
 },
 "nbformat": 4,
 "nbformat_minor": 5
}
