{
 "cells": [
  {
   "cell_type": "code",
   "execution_count": 16,
   "id": "3884469a",
   "metadata": {},
   "outputs": [],
   "source": [
    "# Draw line charts using Bokeh library\n",
    "import numpy as np\n",
    "from bokeh.plotting import figure, show\n",
    "#from bokeh.io import show\n",
    "x = np.arange(0,10,1)\n",
    "y1 = x ** 2\n",
    "y2 = x ** 3\n",
    "y3 = x ** 4\n",
    "\n",
    "p = figure(title = \"Simple Line Charts\",\n",
    "           x_axis_label = \"x\",\n",
    "           y_axis_label = \"y\")\n",
    "p.line(x, y1, legend_label = \"Quadratic Function\",\n",
    "       line_width = 2, color = \"red\")\n",
    "p.line(x, y2, legend_label = \"Cubic Function\",\n",
    "       line_width = 2, color = \"green\")\n",
    "p.line(x, y3, legend_label = \"Quartic Function\",\n",
    "       line_width = 2,color = \"blue\")\n",
    "p.legend.click_policy=\"hide\"\n",
    "show(p)"
   ]
  },
  {
   "cell_type": "code",
   "execution_count": 17,
   "id": "2cb8c63c",
   "metadata": {},
   "outputs": [],
   "source": [
    "#scatter plot using bokeh libraray\n",
    "import numpy as np\n",
    "from bokeh.plotting import figure, show\n",
    "#from bokeh.io import show\n",
    "\n",
    "x=np.random.random(50)*10\n",
    "y=np.random.random(50)*200\n",
    "\n",
    "p=figure(title=\"Simple Scatter Plot\",x_axis_label=\"X\",y_axis_label=\"Y\")\n",
    "\n",
    "p.circle(x,y,legend_label=\"Random Points\",color=\"yellow\")\n",
    "show(p)"
   ]
  },
  {
   "cell_type": "code",
   "execution_count": 18,
   "id": "2b6652e3",
   "metadata": {},
   "outputs": [],
   "source": [
    "# Bar plot using Bokeh library\n",
    "import numpy as np\n",
    "from bokeh.plotting import figure, show\n",
    "from bokeh.io import show\n",
    "\n",
    "x=np.arange(0,5,1)\n",
    "y=np.random.random(5)*100\n",
    "\n",
    "p=figure(title=\"Simple Bar Plot\",x_axis_label=\"X\",y_axis_label=\"Y\")\n",
    "p.vbar(x=x,top=y,width=0.5,bottom=0,color=\"red\")\n",
    "show(p)\n"
   ]
  },
  {
   "cell_type": "code",
   "execution_count": 19,
   "id": "3a4ed9c0",
   "metadata": {},
   "outputs": [],
   "source": [
    "#Customizing scatter plot using bokeh libraray\n",
    "import numpy as np\n",
    "from bokeh.plotting import figure, show\n",
    "#from bokeh.io import show\n",
    "\n",
    "x=np.random.random(50)*10\n",
    "y=np.random.random(50)*200\n",
    "\n",
    "p=figure(title=\"Simple Scatter Plot\",x_axis_label=\"X\",y_axis_label=\"Y\")\n",
    "\n",
    "circle = p.circle(x,y,legend_label=\"Random Points\",color=\"yellow\")\n",
    "\n",
    "glyph=circle.glyph\n",
    "glyph.size=200\n",
    "glyph.fill_color=\"red\"\n",
    "\n",
    "show(p)"
   ]
  },
  {
   "cell_type": "code",
   "execution_count": 20,
   "id": "3907d6ae",
   "metadata": {},
   "outputs": [],
   "source": [
    "#Adding themeto scatter plot using bokeh libraray\n",
    "import numpy as np\n",
    "from bokeh.plotting import figure, show, curdoc\n",
    "#from bokeh.io import show\n",
    "\n",
    "curdoc().theme=\"dark_minimal\"\n",
    "\n",
    "x=np.random.random(50)*10\n",
    "y=np.random.random(50)*200\n",
    "\n",
    "p=figure(title=\"Simple Scatter Plot\",x_axis_label=\"X\",y_axis_label=\"Y\")\n",
    "\n",
    "p.width=1280\n",
    "p.height=720\n",
    "\n",
    "circle = p.circle(x,y,legend_label=\"Random Points\",color=\"yellow\")\n",
    "\n",
    "glyph=circle.glyph\n",
    "glyph.size=20\n",
    "glyph.fill_color=\"red\"\n",
    "\n",
    "show(p)"
   ]
  },
  {
   "cell_type": "code",
   "execution_count": 21,
   "id": "5bdd7f54",
   "metadata": {},
   "outputs": [],
   "source": [
    "# Create multiple plots in a row in the same visualization\n",
    "import numpy as np\n",
    "from bokeh.layouts import row\n",
    "from bokeh.plotting import figure, show\n",
    "\n",
    "x=np.arange(0,6,0.1)\n",
    "\n",
    "y1=np.sin(x)\n",
    "y2=np.cos(x)\n",
    "y3=np.tan(x)\n",
    "\n",
    "p1=figure()\n",
    "p1.line(x,y1)\n",
    "\n",
    "p2=figure()\n",
    "p2.line(x,y2)\n",
    "\n",
    "p3=figure()\n",
    "p3.line(x,y3)\n",
    "\n",
    "show(row(children=[p1,p2,p3],sizing_mode=\"scale_width\"))\n",
    "\n"
   ]
  },
  {
   "cell_type": "code",
   "execution_count": 41,
   "id": "b99629c2",
   "metadata": {
    "scrolled": true
   },
   "outputs": [
    {
     "data": {
      "text/plain": [
       "'\\n#Reading external data\\n# This program won\\'t run because yahoo keeps change the data\\nimport pandas_datareader as web\\n#from pandas_datareader import data\\nfrom bokeh.plotting import figure, show\\nfrom bokeh.models import ColumnDataSource\\nimport pandas as pd\\n\\ndf=web.DataReader(\\'AAPL\\',\\'yahoo\\',start=\\'2015-01-01\\',end=\\'2016-01-01\\')\\ndf[\\'Date\\']=pd.to_datetime(df.index)\\n\\nsource=ColumnDataSource(data=df)\\n\\np=figure(x_axis_type=\"datetime\")\\n \\np.line(x=\"Date\",y=\"Close\",source=source)\\n\\nshow(p)\\n'"
      ]
     },
     "execution_count": 41,
     "metadata": {},
     "output_type": "execute_result"
    }
   ],
   "source": [
    "\"\"\"\n",
    "#Reading external data\n",
    "# This program won't run because yahoo keeps change the data\n",
    "import pandas_datareader as web\n",
    "#from pandas_datareader import data\n",
    "from bokeh.plotting import figure, show\n",
    "from bokeh.models import ColumnDataSource\n",
    "import pandas as pd\n",
    "\n",
    "df=web.DataReader('AAPL','yahoo',start='2015-01-01',end='2016-01-01')\n",
    "df['Date']=pd.to_datetime(df.index)\n",
    "\n",
    "source=ColumnDataSource(data=df)\n",
    "\n",
    "p=figure(x_axis_type=\"datetime\")\n",
    " \n",
    "p.line(x=\"Date\",y=\"Close\",source=source)\n",
    "\n",
    "show(p)\n",
    "\"\"\""
   ]
  },
  {
   "cell_type": "code",
   "execution_count": 44,
   "id": "0ade05d2",
   "metadata": {},
   "outputs": [],
   "source": [
    "#Make interactive graph (Change the behavior of the graph dynamically)\n",
    "import numpy as np\n",
    "from bokeh.plotting import figure, show\n",
    "from bokeh.models import Div,Spinner,TextInput\n",
    "from bokeh.layouts import layout\n",
    "\n",
    "x=np.random.random(50)\n",
    "y=np.random.random(50)\n",
    "\n",
    "p=figure()\n",
    "points=p.circle(x,y)\n",
    "\n",
    "div=Div(text=\"<p>Select size</p>\")\n",
    "\n",
    "spinner=Spinner(title=\"Circle Size\",low=0,high=20,step=1,value=points.glyph.size,width=200)\n",
    "spinner.js_link(\"value\",points.glyph,\"size\")\n",
    "\n",
    "textinput=TextInput(value=points.glyph.fill_color,width=200)\n",
    "textinput.js_link(\"value\",points.glyph,\"fill_color\")\n",
    "\n",
    "layout=layout([[div,spinner],[textinput],[p]])\n",
    "\n",
    "show(layout)\n"
   ]
  },
  {
   "cell_type": "code",
   "execution_count": null,
   "id": "ae961bd1",
   "metadata": {},
   "outputs": [],
   "source": []
  },
  {
   "cell_type": "code",
   "execution_count": null,
   "id": "d297112f",
   "metadata": {},
   "outputs": [],
   "source": []
  }
 ],
 "metadata": {
  "kernelspec": {
   "display_name": "Python 3 (ipykernel)",
   "language": "python",
   "name": "python3"
  },
  "language_info": {
   "codemirror_mode": {
    "name": "ipython",
    "version": 3
   },
   "file_extension": ".py",
   "mimetype": "text/x-python",
   "name": "python",
   "nbconvert_exporter": "python",
   "pygments_lexer": "ipython3",
   "version": "3.11.4"
  }
 },
 "nbformat": 4,
 "nbformat_minor": 5
}
