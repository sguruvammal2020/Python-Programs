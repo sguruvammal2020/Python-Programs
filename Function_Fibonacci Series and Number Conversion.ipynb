{
 "cells": [
  {
   "cell_type": "markdown",
   "id": "b57a2dc2",
   "metadata": {},
   "source": [
    "<p>2a: Defined as a function F as Fn=Fn-1+Fn-2.Write a Python program which accepts a value for N (where N>0)\n",
    "    as input and pass this value to the function. Display suitable error message if the condition for input value is not followed.\n",
    "    </p>"
   ]
  },
  {
   "cell_type": "code",
   "execution_count": 2,
   "id": "52156e6b",
   "metadata": {},
   "outputs": [
    {
     "name": "stdout",
     "output_type": "stream",
     "text": [
      "Enter a positive integer: 6\n",
      "Fibonacci series of num 6:[0, 1, 1, 2, 3, 5]\n"
     ]
    }
   ],
   "source": [
    "def fibonacci(n):\n",
    "    if n<=0:\n",
    "        return \"Number should be a positive integer\"\n",
    "    elif n==1:\n",
    "        return [0]\n",
    "    elif n==2:\n",
    "        return [0,1]\n",
    "    else:\n",
    "        fib_seq=[0,1]\n",
    "        for i in range(2,n):\n",
    "            next_number=fib_seq[-2]+fib_seq[-1]\n",
    "            fib_seq.append(next_number)\n",
    "        return fib_seq\n",
    "try:\n",
    "    num=int(input(\"Enter a positive integer: \"))\n",
    "    result=fibonacci(num)\n",
    "    if type(result)==list:\n",
    "        print(f\"Fibonacci series of num {num}:{result}\")\n",
    "    else:\n",
    "        print(result)\n",
    "except ValueError:\n",
    "    print(\"Invalid Input. Please enter a positive integer \")"
   ]
  },
  {
   "cell_type": "markdown",
   "id": "8b489b30",
   "metadata": {},
   "source": [
    "<p> 2b: Develop a python program to convert binary to decimal, octal to hexadecimal using functions\n",
    "    </p>"
   ]
  },
  {
   "cell_type": "code",
   "execution_count": 1,
   "id": "79255ca2",
   "metadata": {},
   "outputs": [
    {
     "name": "stdout",
     "output_type": "stream",
     "text": [
      "Enter a binary number 100\n",
      "The decimal number of 100 is 4\n",
      "Enter a octal number711\n",
      "The hexa decimal number of 711 is 0x1c9\n"
     ]
    }
   ],
   "source": [
    "def bin_dec(bin_num):\n",
    "    decimal_number=int(bin_num,2)   # int() is used to convert to decimal number\n",
    "    return decimal_number\n",
    "def oct_hex(oct_num):\n",
    "    deci_num=int(oct_num,8)\n",
    "    hex_number=hex(deci_num)    # hex() is used to convert into hexa decimal number\n",
    "    return hex_number\n",
    "\n",
    "    \n",
    "binary_number=input(\"Enter a binary number \")\n",
    "dec_num=bin_dec(binary_number)\n",
    "print(f\"The decimal number of {binary_number} is {dec_num}\")\n",
    "octal_number=input(\"Enter a octal number\")\n",
    "hexa_number=oct_hex(octal_number)\n",
    "print(f\"The hexa decimal number of {octal_number} is {hexa_number}\")\n"
   ]
  }
 ],
 "metadata": {
  "kernelspec": {
   "display_name": "Python 3 (ipykernel)",
   "language": "python",
   "name": "python3"
  },
  "language_info": {
   "codemirror_mode": {
    "name": "ipython",
    "version": 3
   },
   "file_extension": ".py",
   "mimetype": "text/x-python",
   "name": "python",
   "nbconvert_exporter": "python",
   "pygments_lexer": "ipython3",
   "version": "3.11.4"
  }
 },
 "nbformat": 4,
 "nbformat_minor": 5
}
