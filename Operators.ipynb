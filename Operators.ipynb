{
 "cells": [
  {
   "cell_type": "markdown",
   "id": "8d247eb1",
   "metadata": {},
   "source": [
    "<h1> Operators in Python </h1>  \n",
    "<ol>\n",
    "    <li>Arithmetic Operators\n",
    "    <li>Assignment Operators \n",
    "     <li>Relational Operators\n",
    "         <li>Logical Operators\n",
    "             <li>Unary Operators\n",
    "                 \n",
    "</ol>\n"
   ]
  },
  {
   "cell_type": "code",
   "execution_count": 2,
   "id": "bf57d182",
   "metadata": {},
   "outputs": [
    {
     "name": "stdout",
     "output_type": "stream",
     "text": [
      "5\n",
      "1\n",
      "6\n",
      "1.5\n",
      "1\n"
     ]
    }
   ],
   "source": [
    "#Arithmetic\n",
    "x=3\n",
    "y=2\n",
    "print(x+y)   #Addition\n",
    "print(x-y)   #Subtraction\n",
    "print(x*y)    # Multiplication\n",
    "print(x/y)   # Division\n",
    "print(x//y)  # Modulus Division"
   ]
  },
  {
   "cell_type": "code",
   "execution_count": 6,
   "id": "c8e8c1ce",
   "metadata": {},
   "outputs": [
    {
     "name": "stdout",
     "output_type": "stream",
     "text": [
      "10\n",
      "30\n"
     ]
    }
   ],
   "source": [
    "#Assignment\n",
    "#Compound assignment (+=,-=,*=,/=)\n",
    "x=8\n",
    "x+=2     #Addition\n",
    "print(x)\n",
    "x*=3       # Multiplication\n",
    "print(x)"
   ]
  },
  {
   "cell_type": "code",
   "execution_count": 7,
   "id": "0836577c",
   "metadata": {},
   "outputs": [
    {
     "name": "stdout",
     "output_type": "stream",
     "text": [
      "5 6\n"
     ]
    }
   ],
   "source": [
    "#Assign values to two variables in a single line\n",
    "a,b=5,6\n",
    "print(a,b)"
   ]
  },
  {
   "cell_type": "code",
   "execution_count": 8,
   "id": "4df562f6",
   "metadata": {},
   "outputs": [
    {
     "name": "stdout",
     "output_type": "stream",
     "text": [
      "-10\n"
     ]
    }
   ],
   "source": [
    "#Unary operator (negative operator minus - ) \n",
    "x=10\n",
    "x=-10\n",
    "print(x)"
   ]
  },
  {
   "cell_type": "code",
   "execution_count": 11,
   "id": "92d30068",
   "metadata": {},
   "outputs": [
    {
     "name": "stdout",
     "output_type": "stream",
     "text": [
      "True\n",
      "False\n",
      "False\n",
      "True\n",
      "False\n",
      "True\n"
     ]
    }
   ],
   "source": [
    "#Relational operators\n",
    "a=10\n",
    "b=13\n",
    "print(a<b)\n",
    "print(a>b)\n",
    "print(a==b)\n",
    "print(a<=b)\n",
    "print(a>=b)\n",
    "print(a!=b)"
   ]
  },
  {
   "cell_type": "code",
   "execution_count": 14,
   "id": "126e1a51",
   "metadata": {},
   "outputs": [
    {
     "name": "stdout",
     "output_type": "stream",
     "text": [
      "True\n",
      "True\n",
      "False\n"
     ]
    }
   ],
   "source": [
    "#Logical Operators (and or not)  - to combine two conditions  \n",
    "\n",
    "a=5\n",
    "b=4\n",
    "print(a<8 and b<5)\n",
    "print(a<8 or b<2)\n",
    "x=True\n",
    "x=not x    # not operator (not operator basically reverses the output)\n",
    "print(x)"
   ]
  }
 ],
 "metadata": {
  "kernelspec": {
   "display_name": "Python 3 (ipykernel)",
   "language": "python",
   "name": "python3"
  },
  "language_info": {
   "codemirror_mode": {
    "name": "ipython",
    "version": 3
   },
   "file_extension": ".py",
   "mimetype": "text/x-python",
   "name": "python",
   "nbconvert_exporter": "python",
   "pygments_lexer": "ipython3",
   "version": "3.11.4"
  }
 },
 "nbformat": 4,
 "nbformat_minor": 5
}
