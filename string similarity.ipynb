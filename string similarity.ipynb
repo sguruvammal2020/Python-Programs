{
 "cells": [
  {
   "cell_type": "markdown",
   "id": "410e377c",
   "metadata": {},
   "source": [
    "<p>Write a Python program to find the string similarity between two given strings</p>"
   ]
  },
  {
   "cell_type": "code",
   "execution_count": 6,
   "id": "8cabf714",
   "metadata": {},
   "outputs": [
    {
     "name": "stdout",
     "output_type": "stream",
     "text": [
      "Enter the first string: Similarity between two said strings:\n",
      "Enter the second string: Similarity between two said strings:1.0\n",
      " The similarity of Similarity between two said strings: and Similarity between two said strings:1.0 is 0.96\n"
     ]
    }
   ],
   "source": [
    "import difflib\n",
    "def string_similarity(str1,str2):\n",
    "    matcher=difflib.SequenceMatcher(None,str1,str2)\n",
    "    similarity=matcher.ratio()\n",
    "    return similarity\n",
    "    \n",
    "\n",
    "string1=input(\"Enter the first string: \")\n",
    "string2=input(\"Enter the second string: \")\n",
    "similarity=string_similarity(string1,string2)\n",
    "print(f\" The similarity of {string1} and {string2} is {similarity}\")"
   ]
  },
  {
   "cell_type": "code",
   "execution_count": 2,
   "id": "1893f807",
   "metadata": {},
   "outputs": [
    {
     "name": "stdout",
     "output_type": "stream",
     "text": [
      "Enter first string: uru\n",
      "Enter second string: guru\n",
      "Similarity between uru and guru \n",
      "0.8571428571428571\n"
     ]
    }
   ],
   "source": [
    "import difflib\n",
    "#imports the difflib module, which provides classes and functions for comparing sequences.\n",
    "def string_similarity(str1, str2):\n",
    "  result = difflib.SequenceMatcher(a=str1.lower(), b=str2.lower())\n",
    "  #creates a SequenceMatcher object named result.\n",
    "  #Using lower() ensures that the comparison is case-insensitive.\n",
    "  return result.ratio()\n",
    "  #The ratio() method of the SequenceMatcher object is called, and the result is returned.\n",
    "  #The ratio is a float between 0 and 1, where 0 means no similarity, and 1 means the strings\n",
    "  #are identical. It represents the similarity between the two strings based on their\n",
    "  #character sequences.\n",
    "def main():\n",
    "  str1=input(\"Enter first string: \")\n",
    "  str2=input(\"Enter second string: \")\n",
    "  print(\"Similarity between {} and {} \".format(str1,str2))\n",
    "  print(string_similarity(str1,str2))\n",
    "if __name__ == \"__main__\":\n",
    "  main()"
   ]
  },
  {
   "cell_type": "code",
   "execution_count": null,
   "id": "54dec5b3",
   "metadata": {},
   "outputs": [],
   "source": []
  }
 ],
 "metadata": {
  "kernelspec": {
   "display_name": "Python 3 (ipykernel)",
   "language": "python",
   "name": "python3"
  },
  "language_info": {
   "codemirror_mode": {
    "name": "ipython",
    "version": 3
   },
   "file_extension": ".py",
   "mimetype": "text/x-python",
   "name": "python",
   "nbconvert_exporter": "python",
   "pygments_lexer": "ipython3",
   "version": "3.11.4"
  }
 },
 "nbformat": 4,
 "nbformat_minor": 5
}
