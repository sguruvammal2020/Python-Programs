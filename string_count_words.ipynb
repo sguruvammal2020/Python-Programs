{
 "cells": [
  {
   "cell_type": "markdown",
   "id": "075098d1",
   "metadata": {},
   "source": [
    "<p>Write a python program that accepts a sentence and find the number of words, digits, upeercase letters and lowercase letters </p>"
   ]
  },
  {
   "cell_type": "code",
   "execution_count": 5,
   "id": "c3745bf8",
   "metadata": {},
   "outputs": [
    {
     "name": "stdout",
     "output_type": "stream",
     "text": [
      "Enter a sentence: Hi Hello 10\n",
      "Number of words present in Hi Hello 10 is 3\n",
      "Number of digits present in Hi Hello 10 is 2\n",
      "Number of lowercase letters present in Hi Hello 10 is 5\n",
      "Number of uppercase letters present in Hi Hello 10 is 2\n"
     ]
    }
   ],
   "source": [
    "def counts(sentence):\n",
    "    words=sentence.split()\n",
    "    num_words=len(words)\n",
    "    num_digits=sum(1 for char in sentence if char.isdigit())\n",
    "    num_lower=sum(1 for char in sentence if char.islower())\n",
    "    num_upper=sum(1 for char in sentence if char.isupper())\n",
    "    return num_words,num_digits,num_lower,num_upper\n",
    "\n",
    "sentence=input(\"Enter a sentence: \")\n",
    "nword,ndigit,nlower,nupper=counts(sentence)\n",
    "\n",
    "print(f\"Number of words present in {sentence} is {nword}\")\n",
    "print(f\"Number of digits present in {sentence} is {ndigit}\")\n",
    "print(f\"Number of lowercase letters present in {sentence} is {nlower}\")\n",
    "print(f\"Number of uppercase letters present in {sentence} is {nupper}\")\n",
    "\n"
   ]
  },
  {
   "cell_type": "code",
   "execution_count": 9,
   "id": "4dfeae20",
   "metadata": {},
   "outputs": [
    {
     "name": "stdout",
     "output_type": "stream",
     "text": [
      "Enter a sentence : This is my 1st sentence\n",
      "Number of words =  5\n",
      " number of digits =  1\n",
      " number of uppercase letters =  1\n",
      " number of lowercase letters =  17\n"
     ]
    }
   ],
   "source": [
    "\"\"\"3a) Write a Python program that accepts a sentence and find the number of words, digits, uppercase letters and\n",
    "lowercase letters.\"\"\"\n",
    "sent=input(\"Enter a sentence : \")\n",
    "words=len(sent.split()) #words are splitted in a list\n",
    "\n",
    "# words=sent.split() \n",
    "# print(words)\n",
    "print(\"Number of words = \",words)\n",
    "d=uc=lc=0\n",
    "for c in sent:\n",
    "  if c.isdigit():\n",
    "    d+=1\n",
    "  elif c.isupper():\n",
    "    uc+=1\n",
    "  elif c.islower():\n",
    "    lc+=1\n",
    "print(\" number of digits = \", d)\n",
    "print(\" number of uppercase letters = \",uc)\n",
    "print(\" number of lowercase letters = \", lc)"
   ]
  },
  {
   "cell_type": "code",
   "execution_count": null,
   "id": "b6f07a68",
   "metadata": {},
   "outputs": [],
   "source": []
  }
 ],
 "metadata": {
  "kernelspec": {
   "display_name": "Python 3 (ipykernel)",
   "language": "python",
   "name": "python3"
  },
  "language_info": {
   "codemirror_mode": {
    "name": "ipython",
    "version": 3
   },
   "file_extension": ".py",
   "mimetype": "text/x-python",
   "name": "python",
   "nbconvert_exporter": "python",
   "pygments_lexer": "ipython3",
   "version": "3.11.4"
  }
 },
 "nbformat": 4,
 "nbformat_minor": 5
}
