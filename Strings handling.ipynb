{
 "cells": [
  {
   "cell_type": "markdown",
   "id": "f3fe1757",
   "metadata": {},
   "source": [
    "# Strings (array of bytes)\n",
    "<ol>\n",
    "<li> Strings declaration (single or double quote and multiline string (\"\"\"....\"\"\")\n",
    "<li> String Indexing (Forward Indexing(0,1,2..) and Reverse Indexing(....,-3,-2,-1)\n",
    "<li> String Operations\n",
    "<li> String interpolation and formatting\n",
    "</ol>"
   ]
  },
  {
   "cell_type": "code",
   "execution_count": 218,
   "id": "60f568bd",
   "metadata": {},
   "outputs": [
    {
     "name": "stdout",
     "output_type": "stream",
     "text": [
      "<class 'str'>\n",
      "<class 'str'>\n",
      "<class 'str'>\n"
     ]
    }
   ],
   "source": [
    "# String is immutable data type\n",
    "# String declaration\n",
    "name=\"CMRIT campus is in Whitefield\"     # double quote\n",
    "#type(name)\n",
    "print(type(name))\n",
    "course='Python'   # Single quote\n",
    "print(type(course))\n",
    "# multiline string declaration\n",
    "description=\"\"\" ADCD   \n",
    "                EFGH\n",
    "                IJKL\n",
    "                MNOP\n",
    "            \"\"\"           # multiline string\n",
    "\"\"\" ADCD                    # multiline comment\n",
    "                EFGH\n",
    "                IJKL\n",
    "                MNOP\n",
    "            \"\"\"\n",
    "print(type(description))"
   ]
  },
  {
   "cell_type": "code",
   "execution_count": 219,
   "id": "1cedba53",
   "metadata": {},
   "outputs": [
    {
     "data": {
      "text/plain": [
       "'T'"
      ]
     },
     "execution_count": 219,
     "metadata": {},
     "output_type": "execute_result"
    }
   ],
   "source": [
    "# String Access\n",
    "# Access substring  -- slicing operations\n",
    "name[4]"
   ]
  },
  {
   "cell_type": "code",
   "execution_count": 220,
   "id": "b3ff4009",
   "metadata": {},
   "outputs": [
    {
     "data": {
      "text/plain": [
       "'Pytho'"
      ]
     },
     "execution_count": 220,
     "metadata": {},
     "output_type": "execute_result"
    }
   ],
   "source": [
    "# Extract the range of characters\n",
    "# slicing operations using indices\n",
    "a=\"Python is a interpreted programming language\"\n",
    "a[0:5]   # excluding 5, i.e 0,1,2,3,(5-1)"
   ]
  },
  {
   "cell_type": "code",
   "execution_count": 221,
   "id": "befaff1a",
   "metadata": {},
   "outputs": [
    {
     "data": {
      "text/plain": [
       "'n is a interpreted programming language'"
      ]
     },
     "execution_count": 221,
     "metadata": {},
     "output_type": "execute_result"
    }
   ],
   "source": [
    "# only staring index but there is no end index\n",
    "a[5:]   # starts from index 5 till end of the string"
   ]
  },
  {
   "cell_type": "code",
   "execution_count": 222,
   "id": "b360431f",
   "metadata": {},
   "outputs": [
    {
     "data": {
      "text/plain": [
       "'Python is '"
      ]
     },
     "execution_count": 222,
     "metadata": {},
     "output_type": "execute_result"
    }
   ],
   "source": [
    "# only end index\n",
    "a[:10]"
   ]
  },
  {
   "cell_type": "code",
   "execution_count": 223,
   "id": "f2289596",
   "metadata": {},
   "outputs": [
    {
     "data": {
      "text/plain": [
       "'Python is a interpreted programming language'"
      ]
     },
     "execution_count": 223,
     "metadata": {},
     "output_type": "execute_result"
    }
   ],
   "source": [
    "# There is no start and end indices\n",
    "a[:]"
   ]
  },
  {
   "cell_type": "code",
   "execution_count": 224,
   "id": "0b00cd31",
   "metadata": {},
   "outputs": [
    {
     "data": {
      "text/plain": [
       "'Pto sait'"
      ]
     },
     "execution_count": 224,
     "metadata": {},
     "output_type": "execute_result"
    }
   ],
   "source": [
    "# inlcude 'step' value in slicing\n",
    "a[0:15:2]"
   ]
  },
  {
   "cell_type": "code",
   "execution_count": 225,
   "id": "d4535b7e",
   "metadata": {},
   "outputs": [
    {
     "data": {
      "text/plain": [
       "'egaugnal gnimmargorp deterpretni a si nohtyP'"
      ]
     },
     "execution_count": 225,
     "metadata": {},
     "output_type": "execute_result"
    }
   ],
   "source": [
    "# Reverse the string using the substring/slicing methods\n",
    "a[::-1]     # No start and end indices ....step is -1 (negative)"
   ]
  },
  {
   "cell_type": "code",
   "execution_count": 226,
   "id": "02ea8218",
   "metadata": {},
   "outputs": [
    {
     "data": {
      "text/plain": [
       "'fiel'"
      ]
     },
     "execution_count": 226,
     "metadata": {},
     "output_type": "execute_result"
    }
   ],
   "source": [
    "name[-5:-1]    # excluding -1 index    small to big index value"
   ]
  },
  {
   "cell_type": "code",
   "execution_count": 227,
   "id": "3a677d89",
   "metadata": {},
   "outputs": [
    {
     "data": {
      "text/plain": [
       "''"
      ]
     },
     "execution_count": 227,
     "metadata": {},
     "output_type": "execute_result"
    }
   ],
   "source": [
    "name[-1:-5]   # error"
   ]
  },
  {
   "cell_type": "markdown",
   "id": "c08a2555",
   "metadata": {},
   "source": [
    "# String Methods (built-in string functions)\n"
   ]
  },
  {
   "cell_type": "code",
   "execution_count": 228,
   "id": "eb1d5dbf",
   "metadata": {},
   "outputs": [
    {
     "name": "stdout",
     "output_type": "stream",
     "text": [
      "hello\n"
     ]
    }
   ],
   "source": [
    "# Display the string\n",
    "a=\"hello\"\n",
    "print(a)"
   ]
  },
  {
   "cell_type": "code",
   "execution_count": 229,
   "id": "826ae5e1",
   "metadata": {},
   "outputs": [
    {
     "data": {
      "text/plain": [
       "44"
      ]
     },
     "execution_count": 229,
     "metadata": {},
     "output_type": "execute_result"
    }
   ],
   "source": [
    "# length of the string\n",
    "a=\"Python is a interpreted programming language\"\n",
    "len(a)   # including spaces"
   ]
  },
  {
   "cell_type": "code",
   "execution_count": 230,
   "id": "8170bbca",
   "metadata": {},
   "outputs": [
    {
     "data": {
      "text/plain": [
       "'Cmrit campus is in whitefield'"
      ]
     },
     "execution_count": 230,
     "metadata": {},
     "output_type": "execute_result"
    }
   ],
   "source": [
    "name.capitalize()    # first letter is in uppercase\n",
    "# The changes wont  reflect in the original after capitalize. String is immutable type. Refer next the output of next cell   "
   ]
  },
  {
   "cell_type": "code",
   "execution_count": 231,
   "id": "0d32386e",
   "metadata": {},
   "outputs": [
    {
     "name": "stdout",
     "output_type": "stream",
     "text": [
      "CMRIT campus is in Whitefield\n"
     ]
    }
   ],
   "source": [
    "print(name)    "
   ]
  },
  {
   "cell_type": "code",
   "execution_count": 232,
   "id": "e032676b",
   "metadata": {},
   "outputs": [
    {
     "data": {
      "text/plain": [
       "4"
      ]
     },
     "execution_count": 232,
     "metadata": {},
     "output_type": "execute_result"
    }
   ],
   "source": [
    "# Count the number of occurrences\n",
    "name.count('i')    # case sensitive"
   ]
  },
  {
   "cell_type": "code",
   "execution_count": 233,
   "id": "6d00ac08",
   "metadata": {},
   "outputs": [
    {
     "data": {
      "text/plain": [
       "1"
      ]
     },
     "execution_count": 233,
     "metadata": {},
     "output_type": "execute_result"
    }
   ],
   "source": [
    "name.count(\"W\",0,len(name))   # count the occurrences of 'W' from starting index  0 to end of the string"
   ]
  },
  {
   "cell_type": "code",
   "execution_count": 234,
   "id": "8631e9c3",
   "metadata": {},
   "outputs": [
    {
     "data": {
      "text/plain": [
       "3"
      ]
     },
     "execution_count": 234,
     "metadata": {},
     "output_type": "execute_result"
    }
   ],
   "source": [
    "# Find the index of the specific character\n",
    "name.find('I')"
   ]
  },
  {
   "cell_type": "code",
   "execution_count": 235,
   "id": "313d032b",
   "metadata": {},
   "outputs": [
    {
     "data": {
      "text/plain": [
       "3"
      ]
     },
     "execution_count": 235,
     "metadata": {},
     "output_type": "execute_result"
    }
   ],
   "source": [
    "name.find('I',0,len(a))    # returns the index value of the 1st occurrence of the given string 'welcome'"
   ]
  },
  {
   "cell_type": "code",
   "execution_count": 236,
   "id": "f84ea80e",
   "metadata": {},
   "outputs": [
    {
     "data": {
      "text/plain": [
       "3"
      ]
     },
     "execution_count": 236,
     "metadata": {},
     "output_type": "execute_result"
    }
   ],
   "source": [
    "# Find the firt occurrence of the character in reverse\n",
    "name.rfind('I',0,len(name))"
   ]
  },
  {
   "cell_type": "code",
   "execution_count": 237,
   "id": "c4cf7f9b",
   "metadata": {},
   "outputs": [
    {
     "data": {
      "text/plain": [
       "3"
      ]
     },
     "execution_count": 237,
     "metadata": {},
     "output_type": "execute_result"
    }
   ],
   "source": [
    "name.index('I')  "
   ]
  },
  {
   "cell_type": "code",
   "execution_count": 238,
   "id": "f09edd80",
   "metadata": {},
   "outputs": [
    {
     "data": {
      "text/plain": [
       "3"
      ]
     },
     "execution_count": 238,
     "metadata": {},
     "output_type": "execute_result"
    }
   ],
   "source": [
    "name.index('I',0,len(name))   # returns the index value(integer)\n",
    "\n",
    "# output of find() and index() are same"
   ]
  },
  {
   "cell_type": "code",
   "execution_count": 239,
   "id": "322be491",
   "metadata": {},
   "outputs": [
    {
     "data": {
      "text/plain": [
       "3"
      ]
     },
     "execution_count": 239,
     "metadata": {},
     "output_type": "execute_result"
    }
   ],
   "source": [
    "name.rindex('I',0,len(name)) # in reverse"
   ]
  },
  {
   "cell_type": "code",
   "execution_count": 240,
   "id": "e0aa2ba5",
   "metadata": {},
   "outputs": [
    {
     "data": {
      "text/plain": [
       "True"
      ]
     },
     "execution_count": 240,
     "metadata": {},
     "output_type": "execute_result"
    }
   ],
   "source": [
    "name=\"In6\"\n",
    "#name=\"kj lk\"    # space is not alpha numeric\n",
    "name.isalnum()"
   ]
  },
  {
   "cell_type": "code",
   "execution_count": 241,
   "id": "44b656aa",
   "metadata": {},
   "outputs": [
    {
     "data": {
      "text/plain": [
       "True"
      ]
     },
     "execution_count": 241,
     "metadata": {},
     "output_type": "execute_result"
    }
   ],
   "source": [
    "name=\"abc\"\n",
    "#name=\"In6\"\n",
    "name.isalpha()"
   ]
  },
  {
   "cell_type": "code",
   "execution_count": 242,
   "id": "3e787226",
   "metadata": {},
   "outputs": [
    {
     "data": {
      "text/plain": [
       "True"
      ]
     },
     "execution_count": 242,
     "metadata": {},
     "output_type": "execute_result"
    }
   ],
   "source": [
    "name=\"986\"\n",
    "name.isdecimal()"
   ]
  },
  {
   "cell_type": "code",
   "execution_count": 243,
   "id": "8ce00723",
   "metadata": {},
   "outputs": [
    {
     "data": {
      "text/plain": [
       "True"
      ]
     },
     "execution_count": 243,
     "metadata": {},
     "output_type": "execute_result"
    }
   ],
   "source": [
    "name=\"win\"\n",
    "name.islower()"
   ]
  },
  {
   "cell_type": "code",
   "execution_count": 244,
   "id": "22f23dc2",
   "metadata": {},
   "outputs": [
    {
     "data": {
      "text/plain": [
       "True"
      ]
     },
     "execution_count": 244,
     "metadata": {},
     "output_type": "execute_result"
    }
   ],
   "source": [
    "name=\"GREAT\"\n",
    "name.isupper()"
   ]
  },
  {
   "cell_type": "code",
   "execution_count": 245,
   "id": "4acb855f",
   "metadata": {},
   "outputs": [
    {
     "data": {
      "text/plain": [
       "True"
      ]
     },
     "execution_count": 245,
     "metadata": {},
     "output_type": "execute_result"
    }
   ],
   "source": [
    "# convert upper to lower\n",
    "name=\"GREAT\"\n",
    "name.isupper()\n",
    "#name.lower()\n",
    "#a.upper()"
   ]
  },
  {
   "cell_type": "code",
   "execution_count": 246,
   "id": "15f6f2f8",
   "metadata": {},
   "outputs": [
    {
     "data": {
      "text/plain": [
       "'HeLlO wELcOMe'"
      ]
     },
     "execution_count": 246,
     "metadata": {},
     "output_type": "execute_result"
    }
   ],
   "source": [
    "# swapcase()   , converts lower to upper and vice versa\n",
    "c=\"hElLo WelComE\"\n",
    "c.swapcase()\n"
   ]
  },
  {
   "cell_type": "code",
   "execution_count": 247,
   "id": "4c3fc174",
   "metadata": {},
   "outputs": [
    {
     "data": {
      "text/plain": [
       "True"
      ]
     },
     "execution_count": 247,
     "metadata": {},
     "output_type": "execute_result"
    }
   ],
   "source": [
    "# Checking title case\n",
    "d=\"Hello Welcome To Python Programming\"\n",
    "d.istitle()"
   ]
  },
  {
   "cell_type": "code",
   "execution_count": 248,
   "id": "6b5d51a1",
   "metadata": {},
   "outputs": [
    {
     "data": {
      "text/plain": [
       "'Hi Hello'"
      ]
     },
     "execution_count": 248,
     "metadata": {},
     "output_type": "execute_result"
    }
   ],
   "source": [
    "# title() , convert into title case\n",
    "a=\"hi hello\"\n",
    "a.title()"
   ]
  },
  {
   "cell_type": "code",
   "execution_count": 249,
   "id": "915f5202",
   "metadata": {},
   "outputs": [
    {
     "data": {
      "text/plain": [
       "'o'"
      ]
     },
     "execution_count": 249,
     "metadata": {},
     "output_type": "execute_result"
    }
   ],
   "source": [
    "# max()\n",
    "a=\"hello\"\n",
    "max(a)   # The character has highest ASCII value than other characters in the string 'a'"
   ]
  },
  {
   "cell_type": "code",
   "execution_count": 250,
   "id": "21088acc",
   "metadata": {},
   "outputs": [
    {
     "data": {
      "text/plain": [
       "'e'"
      ]
     },
     "execution_count": 250,
     "metadata": {},
     "output_type": "execute_result"
    }
   ],
   "source": [
    "# min()\n",
    "a=\"hello\"\n",
    "min(a)"
   ]
  },
  {
   "cell_type": "code",
   "execution_count": 251,
   "id": "d32798af",
   "metadata": {},
   "outputs": [
    {
     "data": {
      "text/plain": [
       "' '"
      ]
     },
     "execution_count": 251,
     "metadata": {},
     "output_type": "execute_result"
    }
   ],
   "source": [
    "a=\"you welcome\"\n",
    "min(a)    # space has the lowest ASCII value than other characters present in the string 'a'"
   ]
  },
  {
   "cell_type": "code",
   "execution_count": 252,
   "id": "4d4e80a5",
   "metadata": {},
   "outputs": [
    {
     "data": {
      "text/plain": [
       "'GREET'"
      ]
     },
     "execution_count": 252,
     "metadata": {},
     "output_type": "execute_result"
    }
   ],
   "source": [
    "name=\"GREAT\"\n",
    "name.replace('A','E')"
   ]
  },
  {
   "cell_type": "code",
   "execution_count": 253,
   "id": "12e96608",
   "metadata": {},
   "outputs": [
    {
     "name": "stdout",
     "output_type": "stream",
     "text": [
      "CMRIT campus is in Whitefield\n"
     ]
    }
   ],
   "source": [
    "name=\" CMRIT campus is in Whitefield \"\n",
    "name=name.strip()                     # remove leading trailing whitespaces\n",
    "print(name)"
   ]
  },
  {
   "cell_type": "code",
   "execution_count": 254,
   "id": "35362417",
   "metadata": {},
   "outputs": [
    {
     "data": {
      "text/plain": [
       "['Python', 'is', 'a', 'interpreted', 'programming', 'language']"
      ]
     },
     "execution_count": 254,
     "metadata": {},
     "output_type": "execute_result"
    }
   ],
   "source": [
    "# split the given string into sub strings\n",
    "a=\"Python is a interpreted programming language\"\n",
    "#a.split(\"is\")   # split a single string into two string by the splitting word 'is'\n",
    "a.split()   # if no parameter passed, split all the words"
   ]
  },
  {
   "cell_type": "code",
   "execution_count": 255,
   "id": "778016b0",
   "metadata": {},
   "outputs": [
    {
     "data": {
      "text/plain": [
       "'XXXhelloXXX'"
      ]
     },
     "execution_count": 255,
     "metadata": {},
     "output_type": "execute_result"
    }
   ],
   "source": [
    "# center(width,fillchar)   width-> number of spaces, string is centered by leading and trailing with the character 'X'\n",
    "b=\"hello\"\n",
    "b.center(11,\"X\")"
   ]
  },
  {
   "cell_type": "code",
   "execution_count": 256,
   "id": "5f0ae77f",
   "metadata": {},
   "outputs": [
    {
     "data": {
      "text/plain": [
       "'hello welcome to python programming'"
      ]
     },
     "execution_count": 256,
     "metadata": {},
     "output_type": "execute_result"
    }
   ],
   "source": [
    "a=\"hello welcome to python programming\"\n",
    "a.center(11,\"X\")    # the character didnt fill any spaces because the length of the string is greater than 11"
   ]
  },
  {
   "cell_type": "code",
   "execution_count": 257,
   "id": "6a6e3e4b",
   "metadata": {},
   "outputs": [
    {
     "data": {
      "text/plain": [
       "True"
      ]
     },
     "execution_count": 257,
     "metadata": {},
     "output_type": "execute_result"
    }
   ],
   "source": [
    "# startswith(str,begin,end)\n",
    "a=\"hello welcome to python programming\"\n",
    "a.startswith(\"hello\",0,len(a))"
   ]
  },
  {
   "cell_type": "code",
   "execution_count": 258,
   "id": "c71b8c0a",
   "metadata": {},
   "outputs": [
    {
     "data": {
      "text/plain": [
       "True"
      ]
     },
     "execution_count": 258,
     "metadata": {},
     "output_type": "execute_result"
    }
   ],
   "source": [
    "# endswith(str,beg,end)\n",
    "a.endswith('ing',0,len(a))\n",
    "# a.endswith('python',0,len(a))"
   ]
  },
  {
   "cell_type": "markdown",
   "id": "84246a42",
   "metadata": {},
   "source": [
    "# String Operations"
   ]
  },
  {
   "cell_type": "code",
   "execution_count": 259,
   "id": "def02cc9",
   "metadata": {},
   "outputs": [
    {
     "data": {
      "text/plain": [
       "'Pythonlanguage'"
      ]
     },
     "execution_count": 259,
     "metadata": {},
     "output_type": "execute_result"
    }
   ],
   "source": [
    "# String Concatenation\n",
    "a=\"Python\"\n",
    "b=\"language\"\n",
    "a+b"
   ]
  },
  {
   "cell_type": "code",
   "execution_count": 260,
   "id": "55ae1ea5",
   "metadata": {},
   "outputs": [
    {
     "data": {
      "text/plain": [
       "'PythonPythonPython'"
      ]
     },
     "execution_count": 260,
     "metadata": {},
     "output_type": "execute_result"
    }
   ],
   "source": [
    "a*3"
   ]
  },
  {
   "cell_type": "code",
   "execution_count": 261,
   "id": "1f019d32",
   "metadata": {},
   "outputs": [
    {
     "data": {
      "text/plain": [
       "'Pythonlanguagelanguage'"
      ]
     },
     "execution_count": 261,
     "metadata": {},
     "output_type": "execute_result"
    }
   ],
   "source": [
    "a+b*2"
   ]
  },
  {
   "cell_type": "code",
   "execution_count": 262,
   "id": "be59f6ac",
   "metadata": {},
   "outputs": [
    {
     "data": {
      "text/plain": [
       "'You can learn Python easily as language'"
      ]
     },
     "execution_count": 262,
     "metadata": {},
     "output_type": "execute_result"
    }
   ],
   "source": [
    "# String Interpolation   \n",
    "# place holders\n",
    "# percentage formatting\n",
    "c=\"You can learn %s easily as %s\" % (a,b)    # %s is place holder for the values in the tuple\n",
    "c"
   ]
  },
  {
   "cell_type": "code",
   "execution_count": 263,
   "id": "3aafd11b",
   "metadata": {},
   "outputs": [
    {
     "data": {
      "text/plain": [
       "'You can learn Python easily as language'"
      ]
     },
     "execution_count": 263,
     "metadata": {},
     "output_type": "execute_result"
    }
   ],
   "source": [
    "# String support\n",
    "c=f'You can learn {a} easily as {b}'\n",
    "c"
   ]
  },
  {
   "cell_type": "code",
   "execution_count": 264,
   "id": "bb07de65",
   "metadata": {},
   "outputs": [
    {
     "data": {
      "text/plain": [
       "'You can learn Python easily as language'"
      ]
     },
     "execution_count": 264,
     "metadata": {},
     "output_type": "execute_result"
    }
   ],
   "source": [
    "# string.format()\n",
    "\n",
    "c=\"You can learn {a} easily as {b}\".format(a=a,b=b)\n",
    "c"
   ]
  },
  {
   "cell_type": "code",
   "execution_count": 265,
   "id": "05e20c02",
   "metadata": {},
   "outputs": [
    {
     "data": {
      "text/plain": [
       "'You can learn Python easily as language'"
      ]
     },
     "execution_count": 265,
     "metadata": {},
     "output_type": "execute_result"
    }
   ],
   "source": [
    "# Template strings\n",
    "from string import Template\n",
    "c=Template(\"You can learn $a easily as $b\")\n",
    "c.substitute(a=a,b=b)"
   ]
  }
 ],
 "metadata": {
  "kernelspec": {
   "display_name": "Python 3 (ipykernel)",
   "language": "python",
   "name": "python3"
  },
  "language_info": {
   "codemirror_mode": {
    "name": "ipython",
    "version": 3
   },
   "file_extension": ".py",
   "mimetype": "text/x-python",
   "name": "python",
   "nbconvert_exporter": "python",
   "pygments_lexer": "ipython3",
   "version": "3.11.4"
  }
 },
 "nbformat": 4,
 "nbformat_minor": 5
}
